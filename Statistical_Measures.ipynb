{
  "nbformat": 4,
  "nbformat_minor": 0,
  "metadata": {
    "colab": {
      "provenance": [],
      "authorship_tag": "ABX9TyOkpaeHwMTsWcpe9B1Zo2hJ",
      "include_colab_link": true
    },
    "kernelspec": {
      "name": "python3",
      "display_name": "Python 3"
    },
    "language_info": {
      "name": "python"
    }
  },
  "cells": [
    {
      "cell_type": "markdown",
      "metadata": {
        "id": "view-in-github",
        "colab_type": "text"
      },
      "source": [
        "<a href=\"https://colab.research.google.com/github/praharikareddy/ML_23AG1A66E7/blob/main/Statistical_Measures.ipynb\" target=\"_parent\"><img src=\"https://colab.research.google.com/assets/colab-badge.svg\" alt=\"Open In Colab\"/></a>"
      ]
    },
    {
      "cell_type": "markdown",
      "source": [
        "**Statistical Measures**\n",
        "-Central Tendency Measures\n",
        "-Measures of Dispersion"
      ],
      "metadata": {
        "id": "zFu2kifbK5sS"
      }
    },
    {
      "cell_type": "code",
      "execution_count": 1,
      "metadata": {
        "colab": {
          "base_uri": "https://localhost:8080/"
        },
        "id": "SxEbpqirFYg5",
        "outputId": "93130822-f8ad-4e96-c398-38450c8f81c7"
      },
      "outputs": [
        {
          "output_type": "stream",
          "name": "stdout",
          "text": [
            "Mean: 5\n",
            "Median: 4.5\n",
            "Mode: 4\n",
            "Variance: 4.0\n",
            "Standard Deviation: 2.0\n"
          ]
        }
      ],
      "source": [
        "import numpy as np\n",
        "from statistics import mean, median, mode\n",
        "\n",
        "# Example data\n",
        "data=[2,4,4,4,5,5,7,9]\n",
        "\n",
        "# Central Tendency Measures\n",
        "print(\"Mean:\", mean(data))            # Mean\n",
        "print(\"Median:\", median(data))        # Median\n",
        "print(\"Mode:\", mode(data))            # Mode\n",
        "\n",
        "# Measures of Dispersion\n",
        "print(\"Variance:\", np.var(data))               # Variance(Population)\n",
        "print(\"Standard Deviation:\", np.std(data))     # Standard Deviation(Population)"
      ]
    },
    {
      "cell_type": "markdown",
      "source": [
        "**Math library**\n",
        "1. Number Functions"
      ],
      "metadata": {
        "id": "pKAGsUhKOFUs"
      }
    },
    {
      "cell_type": "code",
      "source": [
        "import math\n",
        "print(math.ceil(2.3))\n",
        "print(math.floor(2.7))\n",
        "print(math.trunc(8.9))"
      ],
      "metadata": {
        "colab": {
          "base_uri": "https://localhost:8080/"
        },
        "id": "YNl3JIi7OZGN",
        "outputId": "a50e2338-1f72-4524-ace1-ce737e75dc58"
      },
      "execution_count": 3,
      "outputs": [
        {
          "output_type": "stream",
          "name": "stdout",
          "text": [
            "3\n",
            "2\n",
            "8\n"
          ]
        }
      ]
    },
    {
      "cell_type": "markdown",
      "source": [
        "2. Power and Logarithmic Functions"
      ],
      "metadata": {
        "id": "PvNMb26rPIUo"
      }
    },
    {
      "cell_type": "code",
      "source": [
        "print(math.pow(2,3))\n",
        "print(math.sqrt(16))\n",
        "print(math.exp(2))\n",
        "print(math.log(100,10))"
      ],
      "metadata": {
        "colab": {
          "base_uri": "https://localhost:8080/"
        },
        "id": "gY9EVjK2POHD",
        "outputId": "96ce8b6e-ef7a-446a-945e-3baa349bf637"
      },
      "execution_count": 4,
      "outputs": [
        {
          "output_type": "stream",
          "name": "stdout",
          "text": [
            "8.0\n",
            "4.0\n",
            "7.38905609893065\n",
            "2.0\n"
          ]
        }
      ]
    },
    {
      "cell_type": "markdown",
      "source": [
        "3. Trigonometric Functions"
      ],
      "metadata": {
        "id": "IgGOE-tQPduY"
      }
    },
    {
      "cell_type": "code",
      "source": [
        "print(math.sin(math.pi/2))\n",
        "print(math.cos(0))\n",
        "print(math.tan(math.pi/4))\n",
        "print(math.radians(90))\n",
        "print(math.degrees(math.pi))"
      ],
      "metadata": {
        "colab": {
          "base_uri": "https://localhost:8080/"
        },
        "id": "xm0dQUFzPwFj",
        "outputId": "e2e621e0-553d-4699-bb8c-a0a3b77dfeb8"
      },
      "execution_count": 5,
      "outputs": [
        {
          "output_type": "stream",
          "name": "stdout",
          "text": [
            "1.0\n",
            "1.0\n",
            "0.9999999999999999\n",
            "1.5707963267948966\n",
            "180.0\n"
          ]
        }
      ]
    },
    {
      "cell_type": "markdown",
      "source": [
        "4. Special Functions"
      ],
      "metadata": {
        "id": "atq1-lJuQGix"
      }
    },
    {
      "cell_type": "code",
      "source": [
        "print(math.factorial(5))\n",
        "print(math.gcd(20,8))\n",
        "print(math.fabs(-7.5))"
      ],
      "metadata": {
        "colab": {
          "base_uri": "https://localhost:8080/"
        },
        "id": "mK0VdJemQF7a",
        "outputId": "2e8dd540-7891-4b7c-c0f1-f55177d8f307"
      },
      "execution_count": 6,
      "outputs": [
        {
          "output_type": "stream",
          "name": "stdout",
          "text": [
            "120\n",
            "4\n",
            "7.5\n"
          ]
        }
      ]
    },
    {
      "cell_type": "markdown",
      "source": [
        "5. Constants"
      ],
      "metadata": {
        "id": "P4xI8OMcQX06"
      }
    },
    {
      "cell_type": "code",
      "source": [
        "print(math.pi)\n",
        "print(math.e)"
      ],
      "metadata": {
        "colab": {
          "base_uri": "https://localhost:8080/"
        },
        "id": "Fl68yd52QXgD",
        "outputId": "37ed9dc9-bde7-48ba-e962-ed5a1a63efc1"
      },
      "execution_count": 7,
      "outputs": [
        {
          "output_type": "stream",
          "name": "stdout",
          "text": [
            "3.141592653589793\n",
            "2.718281828459045\n"
          ]
        }
      ]
    },
    {
      "cell_type": "markdown",
      "source": [
        "**SciPy**"
      ],
      "metadata": {
        "id": "unrwq5X9criI"
      }
    },
    {
      "cell_type": "code",
      "source": [
        "# Print the constant value pf PI:\n",
        "\n",
        "from scipy import constants\n",
        "\n",
        "print(constants.pi)\n",
        "\n",
        "print(constants.yotta)    #1e+24\n",
        "print(constants.zetta)    #1e+21\n",
        "print(constants.exa)      #1e+18\n",
        "print(constants.peta)     #1000000000000000.0\n",
        "print(constants.tera)     #1000000000000.0\n",
        "print(constants.giga)     #1000000000.0\n",
        "print(constants.mega)     #1000000.0\n",
        "print(constants.kilo)     #1000.0\n",
        "print(constants.hecto)    #100.0\n",
        "print(constants.deka)     #10.0\n",
        "print(constants.deci)     #0.1\n",
        "print(constants.centi)    #0.01\n",
        "print(constants.milli)    #0.001\n",
        "print(constants.micro)    #1e-06\n",
        "print(constants.nano)     #1e-09\n",
        "print(constants.pico)     #1e-12\n",
        "print(constants.femto)    #1e-15\n",
        "print(constants.atto)     #1e-18\n",
        "print(constants.zepto)    #1e-21"
      ],
      "metadata": {
        "colab": {
          "base_uri": "https://localhost:8080/"
        },
        "id": "qRcft759cudE",
        "outputId": "d2054b74-04f3-42ce-8de1-450266d4390d"
      },
      "execution_count": 8,
      "outputs": [
        {
          "output_type": "stream",
          "name": "stdout",
          "text": [
            "3.141592653589793\n",
            "1e+24\n",
            "1e+21\n",
            "1e+18\n",
            "1000000000000000.0\n",
            "1000000000000.0\n",
            "1000000000.0\n",
            "1000000.0\n",
            "1000.0\n",
            "100.0\n",
            "10.0\n",
            "0.1\n",
            "0.01\n",
            "0.001\n",
            "1e-06\n",
            "1e-09\n",
            "1e-12\n",
            "1e-15\n",
            "1e-18\n",
            "1e-21\n"
          ]
        }
      ]
    },
    {
      "cell_type": "code",
      "source": [
        "#Binary Prefixes:\n",
        "#Return the specified unit in bytes (e.g. kibi returns 1024)\n",
        "\n",
        "print(constants.kibi)    #1024\n",
        "print(constants.mebi)    #1048576\n",
        "print(constants.gibi)    #1073741824\n",
        "print(constants.tebi)    #1099511627776\n",
        "print(constants.pebi)    #1125899906842624\n",
        "print(constants.exbi)    #1152921504606846976\n",
        "print(constants.zebi)    #1180591620717411303424\n",
        "print(constants.yobi)    #1208925819614629174706176"
      ],
      "metadata": {
        "colab": {
          "base_uri": "https://localhost:8080/"
        },
        "id": "ToaRaoOxdYoD",
        "outputId": "b68dfe34-abb7-4563-cb6c-bfc9286592e9"
      },
      "execution_count": 9,
      "outputs": [
        {
          "output_type": "stream",
          "name": "stdout",
          "text": [
            "1024\n",
            "1048576\n",
            "1073741824\n",
            "1099511627776\n",
            "1125899906842624\n",
            "1152921504606846976\n",
            "1180591620717411303424\n",
            "1208925819614629174706176\n"
          ]
        }
      ]
    },
    {
      "cell_type": "code",
      "source": [
        "#Connected Components\n",
        "#Find all of the connected components with the connected_components() method.\n",
        "import numpy as np\n",
        "from scipy.sparse.csgraph import connected_components\n",
        "from scipy.sparse import csr_matrix\n",
        "\n",
        "arr = np.array([\n",
        "  [0, 1, 2],\n",
        "  [1, 0, 0],\n",
        "  [2, 0, 0]\n",
        "])\n",
        "\n",
        "newarr = csr_matrix(arr)\n",
        "\n",
        "print(connected_components(newarr))"
      ],
      "metadata": {
        "colab": {
          "base_uri": "https://localhost:8080/"
        },
        "id": "Z0bDNW-Jdd3Y",
        "outputId": "abf63e10-fee8-4921-e123-e81a48f0a09e"
      },
      "execution_count": 10,
      "outputs": [
        {
          "output_type": "stream",
          "name": "stdout",
          "text": [
            "(1, array([0, 0, 0], dtype=int32))\n"
          ]
        }
      ]
    },
    {
      "cell_type": "markdown",
      "source": [
        "**Dijkstra**"
      ],
      "metadata": {
        "id": "Ge20qMHldjH5"
      }
    },
    {
      "cell_type": "code",
      "source": [
        "#Find the shortest path from element 1 to 2:\n",
        "\n",
        "import numpy as np\n",
        "from scipy.sparse.csgraph import dijkstra\n",
        "from scipy.sparse import csr_matrix\n",
        "\n",
        "arr = np.array([\n",
        "  [0, 1, 2],\n",
        "  [1, 0, 0],\n",
        "  [2, 0, 0]\n",
        "])\n",
        "\n",
        "newarr = csr_matrix(arr)\n",
        "\n",
        "print(dijkstra(newarr, return_predecessors=True, indices=0))"
      ],
      "metadata": {
        "colab": {
          "base_uri": "https://localhost:8080/"
        },
        "id": "E-916beUdoDZ",
        "outputId": "29555c14-8b26-42c6-9265-03f0e0e41d76"
      },
      "execution_count": 11,
      "outputs": [
        {
          "output_type": "stream",
          "name": "stdout",
          "text": [
            "(array([0., 1., 2.]), array([-9999,     0,     0], dtype=int32))\n"
          ]
        }
      ]
    },
    {
      "cell_type": "code",
      "source": [
        "#Floyd Warshall\n",
        "#Use the floyd_warshall() method to find shortest path between all pairs of elements.\n",
        "\n",
        "#Find the shortest path between all pairs of elements:\n",
        "\n",
        "import numpy as np\n",
        "from scipy.sparse.csgraph import floyd_warshall\n",
        "from scipy.sparse import csr_matrix\n",
        "\n",
        "arr = np.array([\n",
        "  [0, 1, 2],\n",
        "  [1, 0, 0],\n",
        "  [2, 0, 0]\n",
        "])\n",
        "\n",
        "newarr = csr_matrix(arr)\n",
        "\n",
        "print(floyd_warshall(newarr, return_predecessors=True))"
      ],
      "metadata": {
        "colab": {
          "base_uri": "https://localhost:8080/"
        },
        "id": "ppn1Ryf6dsmz",
        "outputId": "6b00a27a-695b-4353-8578-02a6282b5638"
      },
      "execution_count": 12,
      "outputs": [
        {
          "output_type": "stream",
          "name": "stdout",
          "text": [
            "(array([[0., 1., 2.],\n",
            "       [1., 0., 3.],\n",
            "       [2., 3., 0.]]), array([[-9999,     0,     0],\n",
            "       [    1, -9999,     0],\n",
            "       [    2,     0, -9999]], dtype=int32))\n"
          ]
        }
      ]
    },
    {
      "cell_type": "code",
      "source": [
        "#Bellman Ford\n",
        "#The bellman_ford() method can also find the shortest path between all pairs of elements, but this method can handle negative weights as well.\n",
        "\n",
        "#Find shortest path from element 1 to 2 with given graph with a negative weight:\n",
        "\n",
        "import numpy as np\n",
        "from scipy.sparse.csgraph import bellman_ford\n",
        "from scipy.sparse import csr_matrix\n",
        "\n",
        "arr = np.array([\n",
        "  [0, -1, 2],\n",
        "  [1, 0, 0],\n",
        "  [2, 0, 0]\n",
        "])\n",
        "\n",
        "newarr = csr_matrix(arr)\n",
        "\n",
        "print(bellman_ford(newarr, return_predecessors=True, indices=0))"
      ],
      "metadata": {
        "colab": {
          "base_uri": "https://localhost:8080/"
        },
        "id": "IyYe-TDCgAcz",
        "outputId": "9d72eb24-2d2b-4768-f1de-8a3c440b989d"
      },
      "execution_count": 15,
      "outputs": [
        {
          "output_type": "stream",
          "name": "stdout",
          "text": [
            "(array([ 0., -1.,  2.]), array([-9999,     0,     0], dtype=int32))\n"
          ]
        }
      ]
    }
  ]
}