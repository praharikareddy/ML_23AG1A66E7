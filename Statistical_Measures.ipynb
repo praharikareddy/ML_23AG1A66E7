{
  "nbformat": 4,
  "nbformat_minor": 0,
  "metadata": {
    "colab": {
      "provenance": [],
      "authorship_tag": "ABX9TyN5ceMXMoY87VsywrN3wA6w",
      "include_colab_link": true
    },
    "kernelspec": {
      "name": "python3",
      "display_name": "Python 3"
    },
    "language_info": {
      "name": "python"
    }
  },
  "cells": [
    {
      "cell_type": "markdown",
      "metadata": {
        "id": "view-in-github",
        "colab_type": "text"
      },
      "source": [
        "<a href=\"https://colab.research.google.com/github/praharikareddy/ML_23AG1A66E7/blob/main/Statistical_Measures.ipynb\" target=\"_parent\"><img src=\"https://colab.research.google.com/assets/colab-badge.svg\" alt=\"Open In Colab\"/></a>"
      ]
    },
    {
      "cell_type": "markdown",
      "source": [
        "**Statistical Measures**\n",
        "-Central Tendency Measures\n",
        "-Measures of Dispersion"
      ],
      "metadata": {
        "id": "zFu2kifbK5sS"
      }
    },
    {
      "cell_type": "code",
      "execution_count": 1,
      "metadata": {
        "colab": {
          "base_uri": "https://localhost:8080/"
        },
        "id": "SxEbpqirFYg5",
        "outputId": "93130822-f8ad-4e96-c398-38450c8f81c7"
      },
      "outputs": [
        {
          "output_type": "stream",
          "name": "stdout",
          "text": [
            "Mean: 5\n",
            "Median: 4.5\n",
            "Mode: 4\n",
            "Variance: 4.0\n",
            "Standard Deviation: 2.0\n"
          ]
        }
      ],
      "source": [
        "import numpy as np\n",
        "from statistics import mean, median, mode\n",
        "\n",
        "# Example data\n",
        "data=[2,4,4,4,5,5,7,9]\n",
        "\n",
        "# Central Tendency Measures\n",
        "print(\"Mean:\", mean(data))            # Mean\n",
        "print(\"Median:\", median(data))        # Median\n",
        "print(\"Mode:\", mode(data))            # Mode\n",
        "\n",
        "# Measures of Dispersion\n",
        "print(\"Variance:\", np.var(data))               # Variance(Population)\n",
        "print(\"Standard Deviation:\", np.std(data))     # Standard Deviation(Population)"
      ]
    },
    {
      "cell_type": "markdown",
      "source": [
        "**Math library**\n",
        "1. Number Functions"
      ],
      "metadata": {
        "id": "pKAGsUhKOFUs"
      }
    },
    {
      "cell_type": "code",
      "source": [
        "import math\n",
        "print(math.ceil(2.3))\n",
        "print(math.floor(2.7))\n",
        "print(math.trunc(8.9))"
      ],
      "metadata": {
        "colab": {
          "base_uri": "https://localhost:8080/"
        },
        "id": "YNl3JIi7OZGN",
        "outputId": "a50e2338-1f72-4524-ace1-ce737e75dc58"
      },
      "execution_count": 3,
      "outputs": [
        {
          "output_type": "stream",
          "name": "stdout",
          "text": [
            "3\n",
            "2\n",
            "8\n"
          ]
        }
      ]
    },
    {
      "cell_type": "markdown",
      "source": [
        "2. Power and Logarithmic Functions"
      ],
      "metadata": {
        "id": "PvNMb26rPIUo"
      }
    },
    {
      "cell_type": "code",
      "source": [
        "print(math.pow(2,3))\n",
        "print(math.sqrt(16))\n",
        "print(math.exp(2))\n",
        "print(math.log(100,10))"
      ],
      "metadata": {
        "colab": {
          "base_uri": "https://localhost:8080/"
        },
        "id": "gY9EVjK2POHD",
        "outputId": "96ce8b6e-ef7a-446a-945e-3baa349bf637"
      },
      "execution_count": 4,
      "outputs": [
        {
          "output_type": "stream",
          "name": "stdout",
          "text": [
            "8.0\n",
            "4.0\n",
            "7.38905609893065\n",
            "2.0\n"
          ]
        }
      ]
    },
    {
      "cell_type": "markdown",
      "source": [
        "3. Trigonometric Functions"
      ],
      "metadata": {
        "id": "IgGOE-tQPduY"
      }
    },
    {
      "cell_type": "code",
      "source": [
        "print(math.sin(math.pi/2))\n",
        "print(math.cos(0))\n",
        "print(math.tan(math.pi/4))\n",
        "print(math.radians(90))\n",
        "print(math.degrees(math.pi))"
      ],
      "metadata": {
        "colab": {
          "base_uri": "https://localhost:8080/"
        },
        "id": "xm0dQUFzPwFj",
        "outputId": "e2e621e0-553d-4699-bb8c-a0a3b77dfeb8"
      },
      "execution_count": 5,
      "outputs": [
        {
          "output_type": "stream",
          "name": "stdout",
          "text": [
            "1.0\n",
            "1.0\n",
            "0.9999999999999999\n",
            "1.5707963267948966\n",
            "180.0\n"
          ]
        }
      ]
    },
    {
      "cell_type": "markdown",
      "source": [
        "4. Special Functions"
      ],
      "metadata": {
        "id": "atq1-lJuQGix"
      }
    },
    {
      "cell_type": "code",
      "source": [
        "print(math.factorial(5))\n",
        "print(math.gcd(20,8))\n",
        "print(math.fabs(-7.5))"
      ],
      "metadata": {
        "colab": {
          "base_uri": "https://localhost:8080/"
        },
        "id": "mK0VdJemQF7a",
        "outputId": "2e8dd540-7891-4b7c-c0f1-f55177d8f307"
      },
      "execution_count": 6,
      "outputs": [
        {
          "output_type": "stream",
          "name": "stdout",
          "text": [
            "120\n",
            "4\n",
            "7.5\n"
          ]
        }
      ]
    },
    {
      "cell_type": "markdown",
      "source": [
        "5. Constants"
      ],
      "metadata": {
        "id": "P4xI8OMcQX06"
      }
    },
    {
      "cell_type": "code",
      "source": [
        "print(math.pi)\n",
        "print(math.e)"
      ],
      "metadata": {
        "colab": {
          "base_uri": "https://localhost:8080/"
        },
        "id": "Fl68yd52QXgD",
        "outputId": "37ed9dc9-bde7-48ba-e962-ed5a1a63efc1"
      },
      "execution_count": 7,
      "outputs": [
        {
          "output_type": "stream",
          "name": "stdout",
          "text": [
            "3.141592653589793\n",
            "2.718281828459045\n"
          ]
        }
      ]
    }
  ]
}